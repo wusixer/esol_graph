{
 "cells": [
  {
   "cell_type": "code",
   "execution_count": 6,
   "metadata": {},
   "outputs": [
    {
     "name": "stdout",
     "output_type": "stream",
     "text": [
      "The autoreload extension is already loaded. To reload it, use:\n",
      "  %reload_ext autoreload\n"
     ]
    }
   ],
   "source": [
    "%load_ext autoreload\n",
    "%autoreload 2"
   ]
  },
  {
   "cell_type": "code",
   "execution_count": 7,
   "metadata": {},
   "outputs": [],
   "source": [
    "from esol_graph.esol_data import clean_data"
   ]
  },
  {
   "cell_type": "code",
   "execution_count": 8,
   "metadata": {},
   "outputs": [],
   "source": [
    "import pandas as pd\n",
    "import dgl\n",
    "import torch\n",
    "from rdkit import Chem\n",
    "from rdkit.Chem import Draw\n",
    "from rdkit.Chem.Draw import IPythonConsole\n",
    "from pyprojroot import here\n",
    "#from dgllife.utils import smiles_to_bigraph,mol_to_graph, mol_to_bigraph "
   ]
  },
  {
   "cell_type": "code",
   "execution_count": 9,
   "metadata": {},
   "outputs": [],
   "source": [
    "data = pd.read_csv(here()/\"data/delaney_df_revised.csv\")\n",
    "cleaned_data = clean_data('data/delaney_df_revised.csv')"
   ]
  },
  {
   "cell_type": "code",
   "execution_count": 10,
   "metadata": {},
   "outputs": [
    {
     "data": {
      "text/plain": [
       "(Index(['Compound ID', 'ESOL predicted log solubility in mols per litre',\n",
       "        'Minimum Degree', 'Molecular Weight', 'Number of H-Bond Donors',\n",
       "        'Number of Rings', 'Number of Rotatable Bonds', 'Polar Surface Area',\n",
       "        'measured log solubility in mols per litre', 'smiles'],\n",
       "       dtype='object'),\n",
       " (1128, 10),\n",
       " Index(['compound_id', 'esol_predicted_log_solubility_in_mols_per_litre',\n",
       "        'minimum_degree', 'molecular_weight', 'number_of_h_bond_donors',\n",
       "        'number_of_rings', 'number_of_rotatable_bonds', 'polar_surface_area',\n",
       "        'measured_log_solubility_in_mols_per_litre', 'smiles'],\n",
       "       dtype='object'),\n",
       " (814, 10))"
      ]
     },
     "execution_count": 10,
     "metadata": {},
     "output_type": "execute_result"
    }
   ],
   "source": [
    "data.columns, data.shape,cleaned_data.columns, cleaned_data.shape"
   ]
  },
  {
   "cell_type": "code",
   "execution_count": 7,
   "metadata": {},
   "outputs": [
    {
     "data": {
      "text/plain": [
       "'OCC3OC(OCC2OC(OC(C#N)c1ccccc1)C(O)C(O)C2O)C(O)C(O)C3O '"
      ]
     },
     "execution_count": 7,
     "metadata": {},
     "output_type": "execute_result"
    }
   ],
   "source": [
    "data.head()\n",
    "data.smiles[0]"
   ]
  },
  {
   "cell_type": "code",
   "execution_count": 8,
   "metadata": {},
   "outputs": [],
   "source": [
    "mols = [ Chem.MolFromSmiles(data.smiles[i]) for i in range(len(data.smiles))]\n"
   ]
  },
  {
   "cell_type": "code",
   "execution_count": 13,
   "metadata": {},
   "outputs": [],
   "source": [
    "from dgllife.utils import CanonicalAtomFeaturizer,CanonicalBondFeaturizer"
   ]
  },
  {
   "cell_type": "code",
   "execution_count": 14,
   "metadata": {},
   "outputs": [
    {
     "data": {
      "text/plain": [
       "Graph(num_nodes=32, num_edges=68,\n",
       "      ndata_schemes={'feat': Scheme(shape=(74,), dtype=torch.float32)}\n",
       "      edata_schemes={'e': Scheme(shape=(12,), dtype=torch.float32)})"
      ]
     },
     "execution_count": 14,
     "metadata": {},
     "output_type": "execute_result"
    }
   ],
   "source": [
    "mol1 = Chem.MolFromSmiles(data.smiles[0])\n",
    "atom_featurizer = CanonicalAtomFeaturizer(atom_data_field='feat')\n",
    "another_graph = mol_to_bigraph(mol = mol1, node_featurizer = atom_featurizer, edge_featurizer = CanonicalBondFeaturizer() )\n",
    "another_graph"
   ]
  },
  {
   "cell_type": "code",
   "execution_count": 15,
   "metadata": {},
   "outputs": [],
   "source": [
    "from typing import List, Optional"
   ]
  },
  {
   "cell_type": "code",
   "execution_count": 16,
   "metadata": {},
   "outputs": [],
   "source": [
    "from dgllife.utils import CanonicalAtomFeaturizer,CanonicalBondFeaturizer\n",
    "def mol2graph(smiles:str) -> dgl.graph:\n",
    "    return mol_to_bigraph(mol = smiles, \n",
    "                          node_featurizer = CanonicalAtomFeaturizer(atom_data_field='feat'), \n",
    "                          edge_featurizer = CanonicalBondFeaturizer() )\n",
    "    "
   ]
  },
  {
   "cell_type": "code",
   "execution_count": 17,
   "metadata": {},
   "outputs": [],
   "source": [
    "from joblib import Parallel, delayed\n",
    "\n",
    "class SmileData(dgl.data.DGLDataset):\n",
    "    def __init__(self, \n",
    "                 labels:torch.Tensor, \n",
    "                 molstrs:List[str],\n",
    "                 name:str, \n",
    "                 graph_fn: callable = mol2graph,\n",
    "                 ncpu:int = 1):\n",
    "        \n",
    "        self.molstrs = molstrs\n",
    "        self.labels = labels\n",
    "        self.graph_fn = graph_fn\n",
    "        self.ncpu = ncpu\n",
    "        super().__init__(name = name)\n",
    "        \n",
    "        \n",
    "    def process(self):\n",
    "        \"\"\"Turn molstr to dgl.graphs in parallele\"\"\"\n",
    "        self.graphs = Parallel(n_jobs=self.ncpu)(delayed(self.graph_fn)(smile) for smile in self.molstrs)\n",
    "        \n",
    "        \n",
    "    def __getitem__(self, idx):\n",
    "        return self.graphs[idx], self.labels[idx]\n",
    "    \n",
    "    def __len__(self):\n",
    "        \n",
    "        return len(self.molstrs)\n",
    "    \n",
    "    \n",
    "        "
   ]
  },
  {
   "cell_type": "code",
   "execution_count": 18,
   "metadata": {},
   "outputs": [],
   "source": [
    "moldata = SmileData(torch.Tensor([0]*len(mols)), mols, 'smiledata')"
   ]
  },
  {
   "cell_type": "code",
   "execution_count": 19,
   "metadata": {},
   "outputs": [
    {
     "data": {
      "text/plain": [
       "(Graph(num_nodes=22, num_edges=52,\n",
       "       ndata_schemes={'feat': Scheme(shape=(74,), dtype=torch.float32)}\n",
       "       edata_schemes={'e': Scheme(shape=(12,), dtype=torch.float32)}),\n",
       " tensor(0.))"
      ]
     },
     "execution_count": 19,
     "metadata": {},
     "output_type": "execute_result"
    }
   ],
   "source": [
    "moldata[3]"
   ]
  },
  {
   "cell_type": "code",
   "execution_count": 20,
   "metadata": {},
   "outputs": [
    {
     "data": {
      "text/plain": [
       "(Graph(num_nodes=5, num_edges=10,\n",
       "       ndata_schemes={'feat': Scheme(shape=(74,), dtype=torch.float32)}\n",
       "       edata_schemes={'e': Scheme(shape=(12,), dtype=torch.float32)}),\n",
       " tensor(0.))"
      ]
     },
     "execution_count": 20,
     "metadata": {},
     "output_type": "execute_result"
    }
   ],
   "source": [
    "moldata[4]"
   ]
  },
  {
   "cell_type": "code",
   "execution_count": null,
   "metadata": {},
   "outputs": [],
   "source": []
  },
  {
   "cell_type": "code",
   "execution_count": null,
   "metadata": {},
   "outputs": [],
   "source": []
  },
  {
   "cell_type": "code",
   "execution_count": null,
   "metadata": {},
   "outputs": [],
   "source": []
  },
  {
   "cell_type": "code",
   "execution_count": null,
   "metadata": {},
   "outputs": [],
   "source": []
  },
  {
   "cell_type": "code",
   "execution_count": null,
   "metadata": {},
   "outputs": [],
   "source": []
  },
  {
   "cell_type": "code",
   "execution_count": null,
   "metadata": {},
   "outputs": [],
   "source": [
    "feature = pd.read_csv('data/delaney_descriptors_df.csv')\n",
    "feature.head()"
   ]
  },
  {
   "cell_type": "code",
   "execution_count": null,
   "metadata": {},
   "outputs": [],
   "source": [
    "process = pd.read_csv(\"data/delaney-processed.csv\")\n",
    "process.head()\n",
    "process.shape"
   ]
  },
  {
   "cell_type": "code",
   "execution_count": null,
   "metadata": {},
   "outputs": [],
   "source": []
  },
  {
   "cell_type": "code",
   "execution_count": null,
   "metadata": {},
   "outputs": [],
   "source": []
  },
  {
   "cell_type": "code",
   "execution_count": null,
   "metadata": {},
   "outputs": [],
   "source": [
    "one_graph"
   ]
  },
  {
   "cell_type": "code",
   "execution_count": null,
   "metadata": {},
   "outputs": [],
   "source": [
    "one_graph"
   ]
  },
  {
   "cell_type": "code",
   "execution_count": null,
   "metadata": {},
   "outputs": [],
   "source": [
    "one_graph.edata['bond_type'].shape"
   ]
  },
  {
   "cell_type": "code",
   "execution_count": null,
   "metadata": {},
   "outputs": [],
   "source": [
    "def featurize_atoms(mol):\n",
    "    feats = []\n",
    "    for atom in mol.GetAtoms():\n",
    "        feats.append(atom.GetAtomicNum())\n",
    "        #transpose feature matrix, from (n_feature, n_sample) to (n_sample, n_feature)\n",
    "    return {'atomic': torch.tensor(feats).reshape(-1, 1).float()}\n",
    "\n",
    "def featurize_bonds(mol):\n",
    "    feats = []\n",
    "    bond_types = [Chem.rdchem.BondType.SINGLE, Chem.rdchem.BondType.DOUBLE,\n",
    "                  Chem.rdchem.BondType.TRIPLE, Chem.rdchem.BondType.AROMATIC]\n",
    "    for bond in mol.GetBonds():\n",
    "        btype = bond_types.index(bond.GetBondType())\n",
    "        # One bond between atom u and v corresponds to two edges (u, v) and (v, u)\n",
    "        feats.extend([btype, btype])\n",
    "    return {'type': torch.tensor(feats).reshape(-1, 1).float()}"
   ]
  },
  {
   "cell_type": "code",
   "execution_count": null,
   "metadata": {},
   "outputs": [],
   "source": [
    "one_graph = mol_to_bigraph(mol = mol, node_featurizer =featurize_atoms ,\n",
    "                                       edge_featurizer = featurize_bonds)"
   ]
  },
  {
   "cell_type": "code",
   "execution_count": null,
   "metadata": {},
   "outputs": [],
   "source": [
    "one_graph.ndata"
   ]
  },
  {
   "cell_type": "code",
   "execution_count": null,
   "metadata": {},
   "outputs": [],
   "source": [
    "import networkx as nx"
   ]
  },
  {
   "cell_type": "code",
   "execution_count": null,
   "metadata": {},
   "outputs": [],
   "source": [
    "nx.draw(dgl.to_networkx(one_graph))"
   ]
  },
  {
   "cell_type": "code",
   "execution_count": null,
   "metadata": {},
   "outputs": [],
   "source": []
  }
 ],
 "metadata": {
  "kernelspec": {
   "display_name": "esol_graph",
   "language": "python",
   "name": "esol_graph"
  },
  "language_info": {
   "codemirror_mode": {
    "name": "ipython",
    "version": 3
   },
   "file_extension": ".py",
   "mimetype": "text/x-python",
   "name": "python",
   "nbconvert_exporter": "python",
   "pygments_lexer": "ipython3",
   "version": "3.8.12"
  }
 },
 "nbformat": 4,
 "nbformat_minor": 4
}
