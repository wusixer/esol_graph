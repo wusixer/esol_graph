{
 "cells": [
  {
   "cell_type": "code",
   "execution_count": 3,
   "id": "8575734b-af66-4fe5-91e3-74358d447da4",
   "metadata": {},
   "outputs": [],
   "source": [
    "%load_ext autoreload\n",
    "%autoreload 2"
   ]
  },
  {
   "cell_type": "code",
   "execution_count": 4,
   "id": "081d8450-07d5-40bc-99ce-fcd1bd1f9838",
   "metadata": {},
   "outputs": [],
   "source": [
    "import dgllife\n",
    "import pandas as pd\n"
   ]
  },
  {
   "cell_type": "markdown",
   "id": "4e683463-dddd-48ac-9bef-a0a4beaaa9f3",
   "metadata": {},
   "source": [
    "### read data and understand "
   ]
  },
  {
   "cell_type": "code",
   "execution_count": 44,
   "id": "a507ebdf-d2e4-4a79-b60a-9d1ca684430d",
   "metadata": {},
   "outputs": [
    {
     "data": {
      "text/plain": [
       "0    0\n",
       "1    0\n",
       "2    0\n",
       "3    0\n",
       "4    0\n",
       "6    0\n",
       "7    0\n",
       "dtype: int64"
      ]
     },
     "execution_count": 44,
     "metadata": {},
     "output_type": "execute_result"
    }
   ],
   "source": [
    "index_label_file = '/Users/jiayicox/.dgl/pdbbind_v2015/v2015/INDEX_core_data.2013'\n",
    "\n",
    "df = pd.read_csv(index_label_file,comment = \"#\", sep=\"\\s+\", header = None )\n",
    "\n",
    "df.drop(labels=5, axis=1, inplace =True)\n",
    "\n",
    "df_colummns = ['PDB_code', 'resolution', 'release_year',\n",
    "                '-logKd/Ki', 'Kd/Ki', 'reference', 'ligand_name']\n",
    "df.set_axis(df_colummns, axis=1, inplace=False)\n",
    "df.isnull().sum()"
   ]
  },
  {
   "cell_type": "code",
   "execution_count": null,
   "id": "d4d84854-5b78-447b-9747-7f2da878aaee",
   "metadata": {},
   "outputs": [],
   "source": [
    "df = pd.read_csv(index_label_file,skiprows = )\n",
    "df.shape"
   ]
  },
  {
   "cell_type": "code",
   "execution_count": null,
   "id": "225e9fea-23b9-49a1-b9ab-9108b27e7272",
   "metadata": {},
   "outputs": [],
   "source": [
    "index_label_file = '~/.dgl/pdbbind_v2015/INDEX_core_data.2013'\n",
    "contents = []\n",
    "with open(index_label_file, 'r') as f:\n",
    "    for line in f.readlines():\n",
    "        if line[0] != \"#\":\n",
    "            splitted_elements = line.split()\n",
    "            if pdb_version == 'v2015':\n",
    "                if len(splitted_elements) == 8:\n",
    "                    # Ignore \"//\"\n",
    "                    contents.append(splitted_elements[:5] + splitted_elements[6:])\n",
    "                else:\n",
    "                    print('Incorrect data format.')\n",
    "                    print(splitted_elements)"
   ]
  }
 ],
 "metadata": {
  "kernelspec": {
   "display_name": "esol_graph",
   "language": "python",
   "name": "esol_graph"
  },
  "language_info": {
   "codemirror_mode": {
    "name": "ipython",
    "version": 3
   },
   "file_extension": ".py",
   "mimetype": "text/x-python",
   "name": "python",
   "nbconvert_exporter": "python",
   "pygments_lexer": "ipython3",
   "version": "3.8.12"
  }
 },
 "nbformat": 4,
 "nbformat_minor": 5
}
